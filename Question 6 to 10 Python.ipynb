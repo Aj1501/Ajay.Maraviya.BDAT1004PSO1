{
 "cells": [
  {
   "cell_type": "markdown",
   "id": "7ae639f8",
   "metadata": {},
   "source": [
    "# Question 6"
   ]
  },
  {
   "cell_type": "code",
   "execution_count": 1,
   "id": "88ed66b8",
   "metadata": {},
   "outputs": [],
   "source": [
    "def pig(word):\n",
    "    vowels = ['a','e','i','o','u']\n",
    "    # Checking the first letter \n",
    "    if word[0].lower() in vowels:\n",
    "        word = word + 'way'\n",
    "    else:\n",
    "        firstChar = word[0]\n",
    "        word = word[1:]\n",
    "        word = word + firstChar + 'ay'\n",
    "    #Return the changed word\n",
    "    return word.lower()"
   ]
  },
  {
   "cell_type": "code",
   "execution_count": 2,
   "id": "a247b661",
   "metadata": {},
   "outputs": [
    {
     "data": {
      "text/plain": [
       "'appyhay'"
      ]
     },
     "execution_count": 2,
     "metadata": {},
     "output_type": "execute_result"
    }
   ],
   "source": [
    "pig('happy')"
   ]
  },
  {
   "cell_type": "code",
   "execution_count": 3,
   "id": "8ec49454",
   "metadata": {},
   "outputs": [
    {
     "data": {
      "text/plain": [
       "'enterway'"
      ]
     },
     "execution_count": 3,
     "metadata": {},
     "output_type": "execute_result"
    }
   ],
   "source": [
    "pig('Enter')"
   ]
  },
  {
   "cell_type": "markdown",
   "id": "2441a0e0",
   "metadata": {},
   "source": [
    "# Question 7"
   ]
  },
  {
   "cell_type": "code",
   "execution_count": 4,
   "id": "0c2930b8",
   "metadata": {},
   "outputs": [
    {
     "name": "stdout",
     "output_type": "stream",
     "text": [
      "There are 15 patients of blood type A\n",
      "There is 1 patients of blood type B\n",
      "There are 13 patients of blood type AB\n",
      "There are 15 patients of blood type O\n",
      "There are no patients of blood type OO\n"
     ]
    }
   ],
   "source": [
    "file = open('C:/Users/Ajay Maraviya/Desktop/bloodtype1.txt', 'r')\n",
    "     \n",
    "for i in file:\n",
    "    bloodtype = []\n",
    "    for value in i.split():\n",
    "        \n",
    "        bloodtype.append(value)\n",
    "        \n",
    "file.close()   \n",
    "\n",
    "# print(bloodtype)\n",
    "\n",
    "bloodtypeCounts = {'A':bloodtype.count('A'),'B':bloodtype.count('B'),'AB':bloodtype.count('AB'),'O':bloodtype.count('O'),'OO':bloodtype.count('OO')}\n",
    "\n",
    "# print(bloodtypeCounts)\n",
    "\n",
    "for i,j in bloodtypeCounts.items():\n",
    "    if j==0:\n",
    "        print(\"There are no patients of blood type\",i)\n",
    "    elif j==1:\n",
    "        print(\"There is\",j, \"patients of blood type\",i)\n",
    "    else:\n",
    "        print(\"There are\",j, \"patients of blood type\",i)\n"
   ]
  },
  {
   "cell_type": "markdown",
   "id": "6e442bf0",
   "metadata": {},
   "source": [
    "# Question 8"
   ]
  },
  {
   "cell_type": "code",
   "execution_count": 5,
   "id": "a4245d7d",
   "metadata": {},
   "outputs": [
    {
     "name": "stdout",
     "output_type": "stream",
     "text": [
      "Enter the currency code EUR\n",
      "Enter the amount 100\n",
      "\n",
      "\n",
      "Enterd Currency: EUR 1.2296544\n",
      "Entered Amount to be converted: 100\n",
      "122.96544\n"
     ]
    }
   ],
   "source": [
    "\n",
    "file = open('C:/Users/Ajay Maraviya/Desktop/currencies.txt', 'r')\n",
    "data = file.read().replace('\\n','\\n')\n",
    "file.close()\n",
    "cur = input(\"Enter the currency code \")\n",
    "amount = int(input(\"Enter the amount \"))\n",
    "\n",
    "#To Get the exchange values\n",
    "with open('C:/Users/Ajay Maraviya/Desktop/currencies.txt','r') as data_file:\n",
    "    currencyNames = {};\n",
    "    currency = {};\n",
    "    for line in data_file:\n",
    "        data = line.split()\n",
    "        currency[data[0]] = float(data[1])\n",
    "        currencyNames[data[0]] = data[0] +\" \"+ data[1]\n",
    "\n",
    "print(\"\\n\")\n",
    "curEntered = currencyNames[cur.upper()]\n",
    "\n",
    "print(\"Enterd Currency: \"+curEntered)\n",
    "print(\"Entered Amount to be converted: \"+ str(amount))\n",
    "cur = cur.upper()\n",
    "\n",
    "#Function for Exchanging currency rates\n",
    "def curconv(cur,amount):\n",
    "    cur = cur.upper()\n",
    "    conv = currency[cur] * amount\n",
    "    print(conv)\n",
    "\n",
    "curconv(cur,amount)\n",
    "\n"
   ]
  },
  {
   "cell_type": "markdown",
   "id": "85153f79",
   "metadata": {},
   "source": [
    "# Question 9"
   ]
  },
  {
   "cell_type": "code",
   "execution_count": 6,
   "id": "151a6906",
   "metadata": {},
   "outputs": [
    {
     "ename": "SyntaxError",
     "evalue": "invalid character '‘' (U+2018) (3007655324.py, line 3)",
     "output_type": "error",
     "traceback": [
      "\u001b[1;36m  File \u001b[1;32m\"C:\\Users\\Ajay Maraviya\\AppData\\Local\\Temp\\ipykernel_3456\\3007655324.py\"\u001b[1;36m, line \u001b[1;32m3\u001b[0m\n\u001b[1;33m    6 + ‘a’\u001b[0m\n\u001b[1;37m        ^\u001b[0m\n\u001b[1;31mSyntaxError\u001b[0m\u001b[1;31m:\u001b[0m invalid character '‘' (U+2018)\n"
     ]
    }
   ],
   "source": [
    "# SyntaxError - can't add two different data type\n",
    "\n",
    "6 + ‘a’"
   ]
  },
  {
   "cell_type": "code",
   "execution_count": null,
   "id": "522c2e21",
   "metadata": {},
   "outputs": [],
   "source": [
    "# IndexError - Can't access an element outside the range\n",
    "\n",
    "list=[1,2,3,4,5,6,7,8,9,10]\n",
    "list[11]"
   ]
  },
  {
   "cell_type": "code",
   "execution_count": null,
   "id": "9e3748ec",
   "metadata": {},
   "outputs": [],
   "source": [
    "# ValueError - Input should be compatible with the function\n",
    "\n",
    "import math\n",
    "math.sqrt(-1.0)"
   ]
  },
  {
   "cell_type": "code",
   "execution_count": null,
   "id": "5ed72526",
   "metadata": {},
   "outputs": [],
   "source": [
    "# NameError - Parameter not defined\n",
    "print(x)"
   ]
  },
  {
   "cell_type": "code",
   "execution_count": null,
   "id": "13f42fdf",
   "metadata": {},
   "outputs": [],
   "source": [
    "# FileNotFoundError - File location should be proper and file name should be the same\n",
    "\n",
    "f = open(\"hi.txt\", \"r\")\n",
    "print(f.read())"
   ]
  },
  {
   "cell_type": "markdown",
   "id": "e04aed16",
   "metadata": {},
   "source": [
    "# Question 10"
   ]
  },
  {
   "cell_type": "code",
   "execution_count": null,
   "id": "44132f84",
   "metadata": {},
   "outputs": [],
   "source": [
    "Letters=\"abcdefghijklmnopqrstuvwxyz\"\n",
    "\n",
    "#function to calculate letter frequencies\n",
    "def frequencies(string):\n",
    "    Occ=[]\n",
    "    for i in Letters : #Count the occurrences\n",
    "        Occ.append(string.count(i))\n",
    "    return Occ\n",
    "\n",
    "oc=frequencies('The quick red fox got bored and went home.') \n",
    "oc"
   ]
  },
  {
   "cell_type": "code",
   "execution_count": null,
   "id": "8dd9de15",
   "metadata": {},
   "outputs": [],
   "source": [
    "oc=frequencies('apple')\n",
    "oc  "
   ]
  }
 ],
 "metadata": {
  "kernelspec": {
   "display_name": "Python 3 (ipykernel)",
   "language": "python",
   "name": "python3"
  },
  "language_info": {
   "codemirror_mode": {
    "name": "ipython",
    "version": 3
   },
   "file_extension": ".py",
   "mimetype": "text/x-python",
   "name": "python",
   "nbconvert_exporter": "python",
   "pygments_lexer": "ipython3",
   "version": "3.9.13"
  }
 },
 "nbformat": 4,
 "nbformat_minor": 5
}
